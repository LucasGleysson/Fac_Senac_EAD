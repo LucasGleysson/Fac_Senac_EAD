{
  "nbformat": 4,
  "nbformat_minor": 0,
  "metadata": {
    "colab": {
      "provenance": [],
      "authorship_tag": "ABX9TyP0CSgBLD3B0DmnKi5P6r9q",
      "include_colab_link": true
    },
    "kernelspec": {
      "name": "python3",
      "display_name": "Python 3"
    },
    "language_info": {
      "name": "python"
    }
  },
  "cells": [
    {
      "cell_type": "markdown",
      "metadata": {
        "id": "view-in-github",
        "colab_type": "text"
      },
      "source": [
        "<a href=\"https://colab.research.google.com/github/LucasGleysson/Fac_Senac_EAD/blob/master/Ambientacao_EAD/Unidade3.ipynb\" target=\"_parent\"><img src=\"https://colab.research.google.com/assets/colab-badge.svg\" alt=\"Open In Colab\"/></a>"
      ]
    },
    {
      "cell_type": "markdown",
      "source": [
        "#Porcentagens\n",
        "\n",
        "As porcentagens são utilizadas para expressar uma parte de um todo em relação a cem partes. Elas são amplamente utilizadas em diversos contextos, como matemática, estatística, economia, ciências sociais e no cotidiano em geral.\n",
        "\n",
        "---\n",
        "###Cálculo de porcentagem\n",
        "Para calcular uma porcentagem de um número, você pode multiplicar o número pela porcentagem dividida por 100. Por exemplo:\n",
        "- Para calcular 20% de 150, você faz: 150 * (20/100) = 30.\n",
        "\n",
        "---\n",
        "###Aumento e diminuição percentual\n",
        "Quando há um aumento ou diminuição em uma quantidade, podemos expressar isso em termos de porcentagem. Se algo aumentou de 100 para 120, o aumento é de 20% ((120-100)/100 * 100). Da mesma forma, se algo diminuiu de 100 para 80, a diminuição é de 20%.\n",
        "\n",
        "---\n",
        "###Taxa de crescimento\n",
        "A taxa de crescimento é uma medida que expressa o aumento percentual de uma quantidade em relação ao seu valor original. Por exemplo: \n",
        "- Um país tinha 10.000 habitantes e, após um ano, passou a ter 11.000 habitantes, o crescimento populacional foi de 10% ((11.000-10.000)/10.000 * 100).\n",
        "\n",
        "---\n",
        "###Descontos e acréscimos\n",
        "Porcentagens também são utilizadas em situações de descontos e acréscimos em preços. Por exemplo:\n",
        "- Um produto está com 20% de desconto em relação ao seu preço original, significa que você paga apenas 80% do preço original.\n",
        "\n",
        "---\n",
        "###Juros\n",
        "Os juros também são frequentemente expressos em termos de porcentagem. Por exemplo, se você investe uma quantia em um banco com uma taxa de juros de 5% ao ano, isso significa que seu dinheiro aumentará em 5% a cada ano.\n",
        "\n",
        "---"
      ],
      "metadata": {
        "id": "gWu6sf14PlHc"
      }
    },
    {
      "cell_type": "markdown",
      "source": [
        "#Regra de Três\n",
        "\n",
        "É uma técnica matemática que permite resolver problemas que envolvem proporções entre grandezas, permitindo encontrar valores faltantes com base na relação proporcional. Exemplo:\n",
        "\n",
        "- Imaginando duas grandezas, distância e calorias, quanto maior for a distância percorrida, maior será o gasto de calorias. Esta relação nos permite descobrir valores em situações como: \"Se perco 50 calorias a cada 10 metros corridos, quantas calorias eu perderia se corresse 100 metros? ou quantos metros preciso correr para perder 300 calorias?\"\n",
        "\n",
        "Existem dois tipos de relações entre grandezas e esses tipos influenciam no calculo de resolução dos problemas, as grandezas diretamente proporcionais e as grandezas inversamente proporcionais.\n",
        "\n",
        "---\n",
        "###Grandezas Diretamente Proporcionais\n",
        "Uma grandeza é diretamente proporcional quando a medida que uma aumenta, a outra também aumenta, como no caso da distância e das calorias. Um exemplo seria Preço e Quantidade de maçãs, se ela custa 2$, quanto custaira para levar 50 delas?\n",
        "\n",
        "- Quantidade⠀⠀⠀⠀Preço\n",
        "\n",
        "⠀⠀⠀⠀⠀⠀⠀⠀1⠀⠀---------⠀⠀2$\n",
        "\n",
        "⠀⠀⠀⠀⠀⠀⠀50⠀⠀ ---------⠀⠀X$\n",
        "\n",
        ">\"1 está para 50 assim como 2 está para X\"\n",
        "\n",
        "- Como são grandezas DIRETAMENTE proporcionais, a relação se cruzam, então a multiplicação feita é CRUZADA.\n",
        "\n",
        "⠀⠀⠀⠀⠀⠀⠀1*X = 50 * 2\n",
        "\n",
        "⠀⠀⠀⠀⠀⠀⠀X= 100\n",
        "\n",
        "⠀⠀⠀⠀⠀⠀⠀Logo: 50 maçãs custam 100$\n",
        "\n",
        "---\n",
        "###Grandezas Inversamente Proporcionais\n",
        "As grandezas são inversamente proporcionais quando uma aumenta e a outra diminui, como velocidade e tempo. Num trajeto de 15km, demoro 20min numa velocidade de 45km/h, se eu for a 70km/h, quanto tempo vou demorar?\n",
        "\n",
        "- Velocidade⠀⠀⠀⠀Tempo\n",
        "\n",
        "⠀⠀⠀⠀⠀45km/h⠀-------⠀20min\n",
        "\n",
        "⠀⠀⠀⠀⠀70km/h⠀-------⠀Xmin\n",
        "\n",
        "> \"45 está para 70 assim como 20 esta para X\"\n",
        "\n",
        "- Com grandezas INVERSAMENTE proporcionais, a relação se mantem a mesma, então a multiplicação é ALINHADA.\n",
        "\n",
        "⠀⠀⠀⠀⠀⠀⠀70*X = 45 * 20\n",
        "\n",
        "⠀⠀⠀⠀⠀⠀⠀70X = 900\n",
        "\n",
        "⠀⠀⠀⠀⠀⠀⠀X = 900/70\n",
        "\n",
        "⠀⠀⠀⠀⠀⠀⠀X = 12,8\n",
        "\n",
        "⠀⠀⠀⠀⠀⠀⠀Logo: Eu demoraria aproximadamente 13 minutos para percorrer os mesmo 15km numa velocidade de 70km/h.\n",
        "\n",
        "---"
      ],
      "metadata": {
        "id": "VXJOiEi7REGJ"
      }
    }
  ]
}