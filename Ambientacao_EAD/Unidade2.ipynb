{
  "nbformat": 4,
  "nbformat_minor": 0,
  "metadata": {
    "colab": {
      "provenance": [],
      "toc_visible": true,
      "authorship_tag": "ABX9TyPACvy2kNvLKpGhCzso+MPZ",
      "include_colab_link": true
    },
    "kernelspec": {
      "name": "python3",
      "display_name": "Python 3"
    },
    "language_info": {
      "name": "python"
    }
  },
  "cells": [
    {
      "cell_type": "markdown",
      "metadata": {
        "id": "view-in-github",
        "colab_type": "text"
      },
      "source": [
        "<a href=\"https://colab.research.google.com/github/LucasGleysson/Fac_Senac_EAD/blob/master/Ambientacao_EAD/Unidade2.ipynb\" target=\"_parent\"><img src=\"https://colab.research.google.com/assets/colab-badge.svg\" alt=\"Open In Colab\"/></a>"
      ]
    },
    {
      "cell_type": "markdown",
      "source": [
        "#01. Sequência Textual\n",
        "\n",
        "Na hora de montar um texto, é importante ter em mente alguns pontos.\n",
        "\n",
        "- Para quem eu to escrevendo?\n",
        "- Qual o meu objetivo?\n",
        "- O que eu tenho em mente?\n",
        "\n",
        "Depois de definidos, é preciso pensar na forma com que o texto vai ser expresso, na sua sequencia.\n",
        "\n",
        "Sequencia textual são as formas como os textos se apresentam. São segmentos de diferentes caracteriscas que constituem um texto. É um conjunto de elementos que possibilita perceber as caracteristicas do texto.\n",
        "\n",
        "- Importante na forma de se expressar e se comunicar, definindo a forma como o texto vai ser escrito.\n",
        "---\n",
        "##Sequencia Descritiva\n",
        "\n",
        "- Tem com foco apresentar caracteristicas do local, objeto ou situação.\n",
        "- Numa história, seria como descrever o local ou a aparencia e vestes de um personagem.\n",
        "---\n",
        "##Sequencia Narrativa\n",
        "\n",
        "- Tem como foco contar uma história, descrever um acontecimento.\n",
        "- Numa história, seria como descrever as ações de um personagem, o que ele esta fazendo ou o que esta acontecendo ao seu redor.\n",
        "- \"Encadeado de verbos\". A arquitetura é focada em verbos e ações.\n",
        "---\n",
        "##Sequencia Dissertativa\n",
        "\n",
        "É quando o autor se dispões a apresentar um tema, se posicionando ou não sobre ele.\n",
        "\n",
        "- Quando se é apresentado um texto sobre determinado tema, falando sobre ele, podendo conter a opnião do autor além da explicação sobre o tema ou contendo apenas a explicação.\n",
        "\n",
        "###1. Dissertativa expositiva\n",
        "\n",
        "- Quando é apresentado o conceito sem carga de julgamentos ou juizo de valor.\n",
        "\n",
        "###2. Dissertativa argumentativa\n",
        "\n",
        "- Quando o tema é apresentado junto a uma apresentação consistente, com uma avaliação, exemplo, com justificativa e com juizo de valor.\n",
        "\n",
        "- É quando você fala sobre um tema, apresentando suas caracteristicas aplicando sua opnião.\n",
        "---\n",
        "##Resumo GPT\n",
        "\"Em resumo, sequências textuais são conjuntos de elementos textuais organizados em uma ordem específica. Elas são fundamentais para entender, gerar e analisar texto em uma variedade de contextos, desde o processamento de linguagem natural até a criação de histórias. A ordem dos elementos textuais em uma sequência é crucial para atribuir significado e contexto às informações contidas no texto.\" \n",
        "\n",
        "- As sequencias textuais pode se misturar dentro de um texto mas sempre uma será mais predominante que a outra.\n",
        "\n",
        "---\n",
        "\n",
        "\n"
      ],
      "metadata": {
        "id": "KRgntxb-8-bK"
      }
    },
    {
      "cell_type": "markdown",
      "source": [
        "#02. Tipos de Discurso\n",
        "\n",
        "É um dos assuntos importantes na competência da comunicação.\n",
        "\n",
        "Existem três tipo de discuro:\n",
        "\n",
        "1. Direto\n",
        "2. Indireto\n",
        "3. Indireto Livre\n",
        "---\n",
        "##Discurso Direto\n",
        "\n",
        "A produção se dá de forma integral, na qual os diálogos são retratados sem a interferência do narrador.\n",
        "\n",
        "Trata-se de uma transcrição fiel da fala dos personagens, que, para introduzi-las, o narrador utiliza-se de alguns sinais de pontuação, como:\n",
        "\n",
        "1. Travessão\n",
        "2. Aspas\n",
        "3. Exclamação\n",
        "4. Interrogação\n",
        "5. dois pontos\n",
        "\n",
        "Aliados a alguns verbos dicendi ou verbos de elocução, que introduzem a fala.\n",
        "\n",
        "- Disse o...\n",
        "- Respondeu o...\n",
        "- Perguntou\n",
        "- Falou\n",
        "- Exclamou\n",
        "- Afirmou\n",
        "\n",
        "Email é um tipo de discurso direto, que não tem a necessidade deverbos de elocução pois a fala já é direta entre quem escreve e quem recebe.\n",
        "\n",
        "---\n",
        "##Discurso Indireto\n",
        "\n",
        "Se usa sempre a terceira pessoa, com os mesmos verbos de elocução mas sem as acentuações\n",
        "O discurso indireto é a fala de outra pessoa inserida no seu discurso com as conjuções \"que\" ou \"se\".\n",
        "\n",
        "---\n",
        "##Discurso Indireto Livre\n",
        "\n",
        "O discurso indireto livre é uma mistura do discurso direto e do discurso indireto. Nesse tipo de discurso, os pensamentos e falas dos personagens são apresentados de forma mais fluida, sem a utilização de marcas explícitas de introdução ou de citação direta. O narrador incorpora o estilo e a linguagem do personagem ao narrar seus pensamentos ou falas.\n",
        "\n",
        "---\n",
        "#Exemplos:\n",
        "1. Discurso Direto:\n",
        " - João disse: \"Estou muito feliz!\"\n",
        "\n",
        "2. Discurso Indireto:\n",
        " - João disse que estava muito feliz.\n",
        "\n",
        "3. Discurso Indireto Livre:\n",
        " - João estava radiante, como se nada pudesse estragar seu dia.\n",
        "\n",
        "- Esses tipos de discurso direto, indireto e indireto livre são frequentemente utilizados em narrativas literárias para transmitir as vozes dos personagens e aprofundar a caracterização.\n"
      ],
      "metadata": {
        "id": "A5ljmcIc8fGJ"
      }
    },
    {
      "cell_type": "markdown",
      "source": [
        "#Crase\n",
        "A crase é um fenômeno linguístico que ocorre na língua portuguesa e envolve a fusão da preposição \"a\" com o artigo definido feminino \"a\". O resultado dessa fusão é o acento grave (`) que aparece sobre a letra \"a\" (à).\n",
        "\n",
        "A crase é utilizada em algumas situações específicas. Vamos ver quando devemos usar a crase:\n",
        "\n",
        "- Antes de substantivos femininos que exigem a preposição \"a\":\n",
        "\n",
        " - Exemplo: Fui à praia. (Fui a + a praia)\n",
        "Antes de pronomes femininos que exigem a preposição \"a\":\n",
        "\n",
        " - Exemplo: Refiro-me àquela senhora. (Refiro-me a + aquela senhora)\n",
        "Antes de expressões adverbiais femininas que exigem a preposição \"a\":\n",
        "\n",
        " - Exemplo: Ele foi à tarde. (Ele foi a + a tarde)\n",
        "Antes de locuções adverbiais femininas:\n",
        "\n",
        " - Exemplo: Ela mora à beira do rio. (Ela mora a + a beira do rio)\n",
        "Em locuções prepositivas:\n",
        "\n",
        " - Exemplo: Ele está disposto à luta. (Ele está disposto a + a luta)\n",
        "\n",
        "É importante ressaltar que a crase não é utilizada diante de verbos, a menos que haja a presença de uma das situações mencionadas acima. Além disso, não utilizamos crase antes de pronomes masculinos, substantivos masculinos e palavras que não exigem a preposição \"a\".\n",
        "\n",
        " - A crase também não é utilizada em casos de locuções conjuntivas, como \"em vista de\" e \"junto com\", nem antes de pronomes de tratamento femininos.\n",
        "\n",
        "É fundamental ter atenção ao uso correto da crase, pois o seu uso inadequado pode comprometer a compreensão e a correção gramatical de um texto."
      ],
      "metadata": {
        "id": "CNs2t-JYX6ZI"
      }
    },
    {
      "cell_type": "markdown",
      "source": [
        "#Concordância Verbal e Nominal\n",
        "##Concordância Verbal\n",
        "A concordância verbal diz respeito à relação de concordância entre o verbo e seu sujeito. Em outras palavras, o verbo deve concordar em número e pessoa com o sujeito da oração.\n",
        "\n",
        "Exemplo de concordância verbal:\n",
        "\n",
        "- O menino estuda para as provas. (verbo \"estuda\" concorda com o sujeito \"menino\", ambos estão no singular)\n",
        "\n",
        "- Os alunos estudam para as provas. (verbo \"estudam\" concorda com o sujeito \"alunos\", ambos estão no plural)\n",
        "\n",
        "É importante observar também as concordâncias verbais em casos de sujeito composto, sujeito posposto, orações com expressões partitivas, entre outros.\n",
        "\n",
        "---\n",
        "##Concordância Nominal\n",
        "A concordância nominal diz respeito à relação de concordância entre o substantivo e seus modificadores, como artigos, adjetivos, pronomes e numerais. Esses elementos devem concordar em gênero e número com o substantivo ao qual se referem.\n",
        "\n",
        "Exemplo de concordância nominal:\n",
        "\n",
        "- As meninas bonitas saíram juntas. (adjetivo \"bonitas\" concorda em gênero e número com o substantivo \"meninas\", ambos estão no feminino plural)\n",
        "\n",
        "- O livro e a caneta estão em cima da mesa. (artigo \"o\" concorda em gênero e número com o substantivo \"livro\", enquanto o artigo \"a\" concorda com o substantivo \"caneta\")\n",
        "\n",
        "Além disso, é importante observar a concordância de pronomes possessivos, adjetivos pátrios, quantificadores, entre outros casos que envolvem a concordância nominal.\n",
        "\n",
        "- Vale ressaltar que tanto a concordância verbal quanto a concordância nominal são regras gramaticais que variam de acordo com a norma padrão da língua portuguesa. No entanto, existem casos de variação linguística em que algumas concordâncias podem ocorrer de forma diferente em diferentes variedades do idioma."
      ],
      "metadata": {
        "id": "Z2VXcnb1_hPO"
      }
    }
  ]
}